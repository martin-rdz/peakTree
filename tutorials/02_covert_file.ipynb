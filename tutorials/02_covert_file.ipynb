{
 "cells": [
  {
   "cell_type": "markdown",
   "id": "06a15425",
   "metadata": {},
   "source": [
    "## 2. Convert a netcdf file\n",
    "\n",
    "A full file of spectra in netcdf can also be converted conveniently.\n",
    "\n",
    "<div class=\"alert alert-block alert-warning\">\n",
    "<b>Warning:</b> <br />\n",
    "Do not run the cells below during the online lecture. <br />\n",
    "Depending on your machine, converting 1 hour of measurements might require 30 minutes or more\n",
    "</div>"
   ]
  },
  {
   "cell_type": "code",
   "execution_count": null,
   "id": "7341b462",
   "metadata": {},
   "outputs": [],
   "source": [
    "import datetime\n",
    "\n",
    "import sys\n",
    "sys.path.append('../')\n",
    "import peakTree\n",
    "import peakTree.helpers as h"
   ]
  },
  {
   "cell_type": "code",
   "execution_count": null,
   "id": "eac26e30",
   "metadata": {},
   "outputs": [],
   "source": [
    "pTB = peakTree.peakTreeBuffer(config_file='../instrument_config.toml', system='Lacros_Pun')\n",
    "pTB.load_spec_file('../data/D20190821_T1700_1800_Pun_zspc2nc_v2.0_standard.nc4', load_to_ram=True)\n",
    "pTB.assemble_time_height('../output/')\n",
    "\n",
    "pTB = peakTree.peakTreeBuffer(config_file='../instrument_config.toml', system='Lacros_Pun')\n",
    "pTB.load_spec_file('../data/D20190822_T0800_0900_Pun_zspc2nc_v2.0_standard.nc4', load_to_ram=True)\n",
    "pTB.assemble_time_height('../output/')\n",
    "\n",
    "pTB = peakTree.peakTreeBuffer(config_file='../instrument_config.toml', system='Lacros_Pun')\n",
    "pTB.load_spec_file('../data/D20190822_T0900_1000_Pun_zspc2nc_v2.0_standard.nc4', load_to_ram=True)\n",
    "pTB.assemble_time_height('../output/')"
   ]
  },
  {
   "cell_type": "code",
   "execution_count": null,
   "id": "609ad492",
   "metadata": {},
   "outputs": [],
   "source": []
  }
 ],
 "metadata": {
  "kernelspec": {
   "display_name": "Python 3",
   "language": "python",
   "name": "python3"
  },
  "language_info": {
   "codemirror_mode": {
    "name": "ipython",
    "version": 3
   },
   "file_extension": ".py",
   "mimetype": "text/x-python",
   "name": "python",
   "nbconvert_exporter": "python",
   "pygments_lexer": "ipython3",
   "version": "3.8.5"
  }
 },
 "nbformat": 4,
 "nbformat_minor": 5
}
